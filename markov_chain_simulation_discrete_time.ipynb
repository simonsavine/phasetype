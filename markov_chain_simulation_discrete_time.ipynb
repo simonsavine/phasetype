{
  "nbformat": 4,
  "nbformat_minor": 0,
  "metadata": {
    "colab": {
      "provenance": [],
      "include_colab_link": true
    },
    "kernelspec": {
      "name": "python3",
      "display_name": "Python 3"
    },
    "language_info": {
      "name": "python"
    }
  },
  "cells": [
    {
      "cell_type": "markdown",
      "metadata": {
        "id": "view-in-github",
        "colab_type": "text"
      },
      "source": [
        "<a href=\"https://colab.research.google.com/github/simonsavine/phasetype/blob/main/markov_chain_simulation_discrete_time.ipynb\" target=\"_parent\"><img src=\"https://colab.research.google.com/assets/colab-badge.svg\" alt=\"Open In Colab\"/></a>"
      ]
    },
    {
      "cell_type": "code",
      "execution_count": 1,
      "metadata": {
        "id": "mlrVS2po4Tqd"
      },
      "outputs": [],
      "source": [
        "import numpy as np\n",
        "import matplotlib.pyplot as plt"
      ]
    },
    {
      "cell_type": "code",
      "source": [
        "# Helper functions"
      ],
      "metadata": {
        "id": "4eLkcaHvLv0Q"
      },
      "execution_count": 2,
      "outputs": []
    },
    {
      "cell_type": "code",
      "source": [
        "def is_square(R):\n",
        "  shape = np.shape(R)\n",
        "\n",
        "  if len(shape) != 2:\n",
        "    return False\n",
        "\n",
        "  return shape[0] == shape[1]\n",
        "\n",
        "\n",
        "def is_proba_vector(P):\n",
        "  if np.any(P < 0):\n",
        "    return False\n",
        "\n",
        "  return np.isclose(np.sum(P),1)"
      ],
      "metadata": {
        "id": "Zuzx9dtR8lDS"
      },
      "execution_count": 3,
      "outputs": []
    },
    {
      "cell_type": "code",
      "source": [
        "def is_transition_matrix(R):\n",
        "  shape = np.shape(R)\n",
        "\n",
        "  if not is_square(R):\n",
        "    return False\n",
        "\n",
        "  if shape[0] != shape[1]:\n",
        "    return False\n",
        "\n",
        "  n=shape[0]\n",
        "  for i in range(n):\n",
        "    if not is_proba_vector(R[:, i]):\n",
        "      return False\n",
        "\n",
        "  return True"
      ],
      "metadata": {
        "id": "1e82cn0K_sWW"
      },
      "execution_count": 4,
      "outputs": []
    },
    {
      "cell_type": "code",
      "source": [
        "def is_diagonalizable(R):\n",
        "  if not is_square(R):\n",
        "    return False\n",
        "\n",
        "  ls, V = np.linalg.eig(R)\n",
        "\n",
        "  return np.abs(np.linalg.det(V)) > 1e-6"
      ],
      "metadata": {
        "id": "itzkciLNGoeS"
      },
      "execution_count": 5,
      "outputs": []
    },
    {
      "cell_type": "code",
      "source": [
        "def make_random_transition_matrix(n, diagonalizable=True):\n",
        "  R = np.random.random((n, n))\n",
        "\n",
        "  for i in range(n):\n",
        "    R[:, i] /= np.sum(R[:, i])\n",
        "\n",
        "  if diagonalizable:\n",
        "    return R\n",
        "\n",
        "  if not is_diagonalizable(R):\n",
        "    return make_random_transition_matrix(n, True)\n"
      ],
      "metadata": {
        "id": "rmn06WxoMCPf"
      },
      "execution_count": 6,
      "outputs": []
    },
    {
      "cell_type": "code",
      "source": [
        "# End of helper functions"
      ],
      "metadata": {
        "id": "pBLmCt2aQWJV"
      },
      "execution_count": 7,
      "outputs": []
    },
    {
      "cell_type": "code",
      "source": [
        "class MarkovChain:\n",
        "\n",
        "  def __init__(self, R):\n",
        "\n",
        "    assert is_transition_matrix(R), 'not a transition matrix'\n",
        "    assert is_diagonalizable(R), 'not a diagonalizable matrix'\n",
        "\n",
        "    self.n = np.shape(R)[0]\n",
        "    self.R = R\n",
        "    self.ls, self.V = np.linalg.eig(R)\n",
        "\n",
        "    self.invV = np.linalg.inv(self.V)\n",
        "\n",
        "  def calc_Rm(self, m=1):\n",
        "    r_power_m = self.V @ np.diag(self.ls ** m) @ self.invV if m > 1 else self.R\n",
        "    # dump (numerical) imaginary part, eigenvalues of stochastic matrices are always real\n",
        "    return np.real(r_power_m)\n",
        "\n",
        "  # Calculate Pi+m knowing Pi\n",
        "  def calc_probas(self, Pi, m=1):\n",
        "    return self.calc_Rm(m) @ Pi\n",
        "\n",
        "  # Calculate Pr(Xi+m | Xi = k)\n",
        "  def calc_probas_definitestate(self, k, m=1):\n",
        "    return self.calc_Rm(m) [:, k]\n",
        "\n",
        "  def sample_path(self, m, X0):\n",
        "    x = X0\n",
        "    xs=[X0]\n",
        "\n",
        "    for _ in range(1, m):\n",
        "      ps = self.calc_probas_definitestate(x)\n",
        "      x = np.random.choice(self.n, p=ps)\n",
        "      xs.append(x)\n",
        "\n",
        "    return np.array(xs)\n",
        "\n",
        "  def sample_paths(self, m, X0, M):\n",
        "    paths = []\n",
        "    for _ in range(M):\n",
        "      paths.append(self.sample_path(m, X0))\n",
        "\n",
        "    return np.array(paths)\n",
        "\n"
      ],
      "metadata": {
        "id": "EnUUpe_KS91c"
      },
      "execution_count": 9,
      "outputs": []
    },
    {
      "cell_type": "code",
      "source": [
        "# test our Markov chain"
      ],
      "metadata": {
        "id": "bmAWmy1DufuC"
      },
      "execution_count": 10,
      "outputs": []
    },
    {
      "cell_type": "code",
      "source": [
        "n = 5\n",
        "R = make_random_transition_matrix(n)\n",
        "R"
      ],
      "metadata": {
        "id": "RYFkfnLeXOmZ",
        "colab": {
          "base_uri": "https://localhost:8080/"
        },
        "outputId": "92018df5-4825-42f2-ada3-5d84da693963"
      },
      "execution_count": 35,
      "outputs": [
        {
          "output_type": "execute_result",
          "data": {
            "text/plain": [
              "array([[0.12348094, 0.14429833, 0.30013867, 0.32778726, 0.15468374],\n",
              "       [0.03279475, 0.26471474, 0.19745055, 0.26479528, 0.01147632],\n",
              "       [0.41053254, 0.17092451, 0.22318544, 0.21807703, 0.30811559],\n",
              "       [0.07149915, 0.24042775, 0.25665002, 0.01428643, 0.16540378],\n",
              "       [0.36169262, 0.17963467, 0.02257532, 0.17505399, 0.36032056]])"
            ]
          },
          "metadata": {},
          "execution_count": 35
        }
      ]
    },
    {
      "cell_type": "code",
      "source": [
        "np.sum(R, axis=0)"
      ],
      "metadata": {
        "id": "8fMySFgUusm7",
        "colab": {
          "base_uri": "https://localhost:8080/"
        },
        "outputId": "c8cb8e90-8d0b-4f3a-8a9e-5dc427bdbbd1"
      },
      "execution_count": 36,
      "outputs": [
        {
          "output_type": "execute_result",
          "data": {
            "text/plain": [
              "array([1., 1., 1., 1., 1.])"
            ]
          },
          "metadata": {},
          "execution_count": 36
        }
      ]
    },
    {
      "cell_type": "code",
      "source": [
        "chain = MarkovChain(R)"
      ],
      "metadata": {
        "id": "4NPwrTK8uq4Q"
      },
      "execution_count": 37,
      "outputs": []
    },
    {
      "cell_type": "code",
      "source": [
        "# around 15sec for 10k paths over 50 steps\n",
        "\n",
        "m = 50\n",
        "M = 10000\n",
        "paths = chain.sample_paths(m = m, X0 = 0, M = M)"
      ],
      "metadata": {
        "id": "LaTCzM_kY4zb"
      },
      "execution_count": 38,
      "outputs": []
    },
    {
      "cell_type": "code",
      "source": [
        "first_path = paths[0, :]\n",
        "assert len(first_path) == m\n",
        "first_path"
      ],
      "metadata": {
        "colab": {
          "base_uri": "https://localhost:8080/"
        },
        "id": "6AdI8upkZJ4_",
        "outputId": "7bdf8d65-ea82-491a-91ab-996b83e148d5"
      },
      "execution_count": 39,
      "outputs": [
        {
          "output_type": "execute_result",
          "data": {
            "text/plain": [
              "array([0, 2, 0, 4, 3, 4, 1, 4, 4, 2, 0, 2, 0, 4, 2, 3, 1, 1, 2, 0, 2, 3,\n",
              "       1, 4, 2, 2, 1, 0, 2, 2, 0, 2, 3, 0, 2, 0, 2, 1, 2, 0, 4, 4, 2, 0,\n",
              "       0, 2, 3, 0, 2, 0])"
            ]
          },
          "metadata": {},
          "execution_count": 39
        }
      ]
    },
    {
      "cell_type": "code",
      "source": [
        "final_states = paths[:, -1]\n",
        "assert len(final_states) == M\n",
        "final_states"
      ],
      "metadata": {
        "colab": {
          "base_uri": "https://localhost:8080/"
        },
        "id": "VjUXrKjysRVe",
        "outputId": "0599beea-e6e5-4eb9-9195-e013a048ab47"
      },
      "execution_count": 40,
      "outputs": [
        {
          "output_type": "execute_result",
          "data": {
            "text/plain": [
              "array([0, 2, 4, ..., 4, 0, 2])"
            ]
          },
          "metadata": {},
          "execution_count": 40
        }
      ]
    },
    {
      "cell_type": "code",
      "source": [
        "states, counts = np.unique(final_states, return_counts=True)\n",
        "freqs = counts / np.sum(counts)"
      ],
      "metadata": {
        "id": "y1XMvLYztKfI"
      },
      "execution_count": 41,
      "outputs": []
    },
    {
      "cell_type": "code",
      "source": [
        "freqs"
      ],
      "metadata": {
        "colab": {
          "base_uri": "https://localhost:8080/"
        },
        "id": "2UZi4zzktUoZ",
        "outputId": "61388dc2-0f00-410d-d335-abecec6d9c00"
      },
      "execution_count": 42,
      "outputs": [
        {
          "output_type": "execute_result",
          "data": {
            "text/plain": [
              "array([0.2023, 0.1446, 0.2784, 0.16  , 0.2147])"
            ]
          },
          "metadata": {},
          "execution_count": 42
        }
      ]
    },
    {
      "cell_type": "code",
      "source": [
        "probas = chain.calc_probas_definitestate(0, m - 1)"
      ],
      "metadata": {
        "id": "ZkLuf10NtkNF"
      },
      "execution_count": 43,
      "outputs": []
    },
    {
      "cell_type": "code",
      "source": [
        "plt.bar(states + 0.8, freqs, 0.4, label = 'empirical')\n",
        "plt.bar(states + 1.2, probas, 0.4, label = 'theoretical')\n",
        "plt.legend()\n",
        "plt.xlabel(\"states\")\n",
        "plt.ylabel(\"probas\")\n",
        "plt.title(\"state probabilities at time step 50\")\n"
      ],
      "metadata": {
        "colab": {
          "base_uri": "https://localhost:8080/",
          "height": 490
        },
        "id": "QCrg8mbgzKRF",
        "outputId": "e663ae2c-0e0d-4def-f1ea-9a8277d9b5f6"
      },
      "execution_count": 47,
      "outputs": [
        {
          "output_type": "execute_result",
          "data": {
            "text/plain": [
              "Text(0.5, 1.0, 'state probabilities at time step 50')"
            ]
          },
          "metadata": {},
          "execution_count": 47
        },
        {
          "output_type": "display_data",
          "data": {
            "text/plain": [
              "<Figure size 640x480 with 1 Axes>"
            ],
            "image/png": "[encoded data removed]"
          },
          "metadata": {}
        }
      ]
    },
    {
      "cell_type": "code",
      "source": [],
      "metadata": {
        "id": "sWpghS8T_ZZ1"
      },
      "execution_count": null,
      "outputs": []
    }
  ]
}