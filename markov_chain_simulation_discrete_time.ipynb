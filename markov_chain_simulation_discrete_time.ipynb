{
  "nbformat": 4,
  "nbformat_minor": 0,
  "metadata": {
    "colab": {
      "provenance": [],
      "include_colab_link": true
    },
    "kernelspec": {
      "name": "python3",
      "display_name": "Python 3"
    },
    "language_info": {
      "name": "python"
    }
  },
  "cells": [
    {
      "cell_type": "markdown",
      "metadata": {
        "id": "view-in-github",
        "colab_type": "text"
      },
      "source": [
        "<a href=\"https://colab.research.google.com/github/simonsavine/phasetype/blob/main/markov_chain_simulation_discrete_time.ipynb\" target=\"_parent\"><img src=\"https://colab.research.google.com/assets/colab-badge.svg\" alt=\"Open In Colab\"/></a>"
      ]
    },
    {
      "cell_type": "code",
      "execution_count": 1,
      "metadata": {
        "id": "mlrVS2po4Tqd"
      },
      "outputs": [],
      "source": [
        "import numpy as np\n",
        "import matplotlib.pyplot as plt\n",
        "import tqdm"
      ]
    },
    {
      "cell_type": "code",
      "source": [
        "# helper functions"
      ],
      "metadata": {
        "id": "4eLkcaHvLv0Q"
      },
      "execution_count": 2,
      "outputs": []
    },
    {
      "cell_type": "code",
      "source": [
        "def is_square(R):\n",
        "  shape = np.shape(R)\n",
        "\n",
        "  if len(shape) != 2:\n",
        "    return False\n",
        "\n",
        "  return shape[0] == shape[1]\n",
        "\n",
        "\n",
        "def is_proba_vector(P):\n",
        "  if np.any(P < 0):\n",
        "    return False\n",
        "\n",
        "  return np.isclose(np.sum(P),1)"
      ],
      "metadata": {
        "id": "Zuzx9dtR8lDS"
      },
      "execution_count": 3,
      "outputs": []
    },
    {
      "cell_type": "code",
      "source": [
        "def is_transition_matrix(R):\n",
        "  shape = np.shape(R)\n",
        "\n",
        "  if not is_square(R):\n",
        "    return False\n",
        "\n",
        "  if shape[0] != shape[1]:\n",
        "    return False\n",
        "\n",
        "  n=shape[0]\n",
        "  for i in range(n):\n",
        "    if not is_proba_vector(R[:, i]):\n",
        "      return False\n",
        "\n",
        "  return True"
      ],
      "metadata": {
        "id": "1e82cn0K_sWW"
      },
      "execution_count": 4,
      "outputs": []
    },
    {
      "cell_type": "code",
      "source": [
        "def is_diagonalizable(R):\n",
        "  if not is_square(R):\n",
        "    return False\n",
        "\n",
        "  ls, V = np.linalg.eig(R)\n",
        "\n",
        "  return np.abs(np.linalg.det(V)) > 1e-6"
      ],
      "metadata": {
        "id": "itzkciLNGoeS"
      },
      "execution_count": 5,
      "outputs": []
    },
    {
      "cell_type": "code",
      "source": [
        "def make_random_transition_matrix(n, diagonalizable=True):\n",
        "  R = np.random.random((n, n))\n",
        "\n",
        "  for i in range(n):\n",
        "    R[:, i] /= np.sum(R[:, i])\n",
        "\n",
        "  if diagonalizable:\n",
        "    return R\n",
        "\n",
        "  if not is_diagonalizable(R):\n",
        "    return make_random_transition_matrix(n, True)\n"
      ],
      "metadata": {
        "id": "rmn06WxoMCPf"
      },
      "execution_count": 6,
      "outputs": []
    },
    {
      "cell_type": "code",
      "source": [
        "# end of helper functions"
      ],
      "metadata": {
        "id": "pBLmCt2aQWJV"
      },
      "execution_count": 7,
      "outputs": []
    },
    {
      "cell_type": "code",
      "source": [
        "# main class for computation of theoretical probabilities, and sample path simulation\n",
        "class MarkovChain:\n",
        "\n",
        "  def __init__(self, R):\n",
        "\n",
        "    assert is_transition_matrix(R), 'not a transition matrix'\n",
        "    assert is_diagonalizable(R), 'not a diagonalizable matrix'\n",
        "\n",
        "    self.n = np.shape(R)[0]\n",
        "    self.R = R\n",
        "    self.ls, self.V = np.linalg.eig(R)\n",
        "\n",
        "    self.invV = np.linalg.inv(self.V)\n",
        "\n",
        "  def calc_Rm(self, m=1):\n",
        "    r_power_m = self.V @ np.diag(self.ls ** m) @ self.invV if m > 1 else self.R\n",
        "    # dump (numerical) imaginary part, eigenvalues of stochastic matrices are always real\n",
        "    return np.real(r_power_m)\n",
        "\n",
        "  # Calculate Pi+m knowing Pi\n",
        "  def calc_probas(self, Pi, m=1):\n",
        "    return self.calc_Rm(m) @ Pi\n",
        "\n",
        "  # Calculate Pr(Xi+m | Xi = k)\n",
        "  def calc_probas_definitestate(self, k, m=1):\n",
        "    return self.calc_Rm(m) [:, k]\n",
        "\n",
        "  def sample_path(self, m, X0):\n",
        "    x = X0\n",
        "    xs=[X0]\n",
        "\n",
        "    for _ in range(1, m):\n",
        "      # next step probas are in the column of R corresponding to current state\n",
        "      ps = R[:, x]\n",
        "      x = np.random.choice(self.n, p=ps)\n",
        "      xs.append(x)\n",
        "\n",
        "    return np.array(xs)\n",
        "\n",
        "  def sample_paths(self, m, X0, M):\n",
        "    paths = []\n",
        "    for _ in tqdm.tqdm(range(M),f\"simulating {M} paths\" ):\n",
        "      paths.append(self.sample_path(m, X0))\n",
        "\n",
        "    return np.array(paths)"
      ],
      "metadata": {
        "id": "EnUUpe_KS91c"
      },
      "execution_count": 8,
      "outputs": []
    },
    {
      "cell_type": "code",
      "source": [
        "# test our Markov chain"
      ],
      "metadata": {
        "id": "bmAWmy1DufuC"
      },
      "execution_count": 9,
      "outputs": []
    },
    {
      "cell_type": "code",
      "source": [
        "n = 5\n",
        "R = make_random_transition_matrix(n)\n",
        "R"
      ],
      "metadata": {
        "id": "RYFkfnLeXOmZ",
        "colab": {
          "base_uri": "https://localhost:8080/"
        },
        "outputId": "3ab5c6d3-ba67-4089-c804-2a69dcb43de4"
      },
      "execution_count": 58,
      "outputs": [
        {
          "output_type": "execute_result",
          "data": {
            "text/plain": [
              "array([[0.28497854, 0.10330214, 0.16755313, 0.07191737, 0.28727413],\n",
              "       [0.02095804, 0.3291429 , 0.17671818, 0.23889881, 0.25913924],\n",
              "       [0.28014779, 0.13116123, 0.41564863, 0.24203019, 0.19213083],\n",
              "       [0.33646394, 0.15846279, 0.11605735, 0.27452   , 0.14604881],\n",
              "       [0.07745169, 0.27793094, 0.12402271, 0.17263363, 0.11540699]])"
            ]
          },
          "metadata": {},
          "execution_count": 58
        }
      ]
    },
    {
      "cell_type": "code",
      "source": [
        "sums = np.sum(R, axis=0)\n",
        "assert np.allclose(sums, 1)"
      ],
      "metadata": {
        "id": "8fMySFgUusm7"
      },
      "execution_count": 59,
      "outputs": []
    },
    {
      "cell_type": "code",
      "source": [
        "chain = MarkovChain(R)"
      ],
      "metadata": {
        "id": "4NPwrTK8uq4Q"
      },
      "execution_count": 60,
      "outputs": []
    },
    {
      "cell_type": "code",
      "source": [
        "# sample 100,000 paths over 50 steps\n",
        "# allow 2-3 minutes\n",
        "m = 50\n",
        "M = 100000\n",
        "paths = chain.sample_paths(m = m, X0 = 0, M = M)"
      ],
      "metadata": {
        "id": "LaTCzM_kY4zb",
        "colab": {
          "base_uri": "https://localhost:8080/"
        },
        "outputId": "0bb5abe6-20ed-4827-b41b-437dce89eae4"
      },
      "execution_count": 68,
      "outputs": [
        {
          "output_type": "stream",
          "name": "stderr",
          "text": [
            "simulating 100000 paths: 100%|██████████| 100000/100000 [02:15<00:00, 738.34it/s]\n"
          ]
        }
      ]
    },
    {
      "cell_type": "code",
      "source": [
        "first_path = paths[0, :]\n",
        "assert len(first_path) == m\n",
        "first_path"
      ],
      "metadata": {
        "colab": {
          "base_uri": "https://localhost:8080/"
        },
        "id": "6AdI8upkZJ4_",
        "outputId": "12a60b45-0196-4f01-d9d7-e042f8b6c3f6"
      },
      "execution_count": 62,
      "outputs": [
        {
          "output_type": "execute_result",
          "data": {
            "text/plain": [
              "array([0, 3, 1, 3, 3, 2, 3, 3, 2, 2, 2, 0, 3, 1, 4, 0, 2, 1, 2, 0, 3, 1,\n",
              "       2, 0, 4, 0, 3, 2, 1, 0, 0, 3, 2, 2, 0, 0, 2, 4, 3, 4, 0, 3, 4, 2,\n",
              "       4, 0, 2, 0, 2, 2])"
            ]
          },
          "metadata": {},
          "execution_count": 62
        }
      ]
    },
    {
      "cell_type": "code",
      "source": [
        "final_states = paths[:, -1]\n",
        "assert len(final_states) == M\n",
        "final_states.shape, final_states[:10]"
      ],
      "metadata": {
        "colab": {
          "base_uri": "https://localhost:8080/"
        },
        "id": "VjUXrKjysRVe",
        "outputId": "0ace5e3c-4dac-4359-dc78-35df5ff05ddf"
      },
      "execution_count": 69,
      "outputs": [
        {
          "output_type": "execute_result",
          "data": {
            "text/plain": [
              "((100000,), array([0, 2, 1, 1, 2, 3, 1, 0, 4, 2]))"
            ]
          },
          "metadata": {},
          "execution_count": 69
        }
      ]
    },
    {
      "cell_type": "code",
      "source": [
        "# helper function computes empirical frequencies\n",
        "def compute_empirical_freqs(sample):\n",
        "  states, counts = np.unique(sample, return_counts=True)\n",
        "  freqs = counts / np.sum(counts)\n",
        "  return freqs"
      ],
      "metadata": {
        "id": "y1XMvLYztKfI"
      },
      "execution_count": 72,
      "outputs": []
    },
    {
      "cell_type": "code",
      "source": [
        "theoretical_probas = chain.calc_probas_definitestate(0, m - 1)"
      ],
      "metadata": {
        "id": "ZkLuf10NtkNF"
      },
      "execution_count": 73,
      "outputs": []
    },
    {
      "cell_type": "code",
      "source": [
        "states = np.arange(n)\n",
        "fig, axs = plt.subplots(2, 3, figsize=(12, 9))\n",
        "axs = axs.flatten()\n",
        "Ms = [100, 500, 1000, 5000, 10000, 100000]\n",
        "for ax, M in zip(axs, Ms):\n",
        "  ax.bar(states + 0.8, compute_empirical_freqs(final_states[:M]), 0.4, color='r', label = 'empirical frequencies')\n",
        "  ax.bar(states + 1.2, theoretical_probas, 0.4, color='b', label = 'theoretical probabilities')\n",
        "  ax.set_xlabel(\"states\")\n",
        "  ax.set_title(f\"{M} sample paths\")\n",
        "\n",
        "handles, labels = axs[0].get_legend_handles_labels()\n",
        "fig.legend(handles, labels, loc=\"lower center\")\n",
        "fig.suptitle(\"empirical frequencies and theoretical probabilities at time step i=50\")\n",
        "plt.tight_layout(rect=[0, 0.05, 1, 0.98])\n"
      ],
      "metadata": {
        "colab": {
          "base_uri": "https://localhost:8080/",
          "height": 887
        },
        "id": "aPJiH4it66CK",
        "outputId": "5b446eb7-5ad5-4d0f-8c6f-9aa26e093b36"
      },
      "execution_count": 86,
      "outputs": [
        {
          "output_type": "display_data",
          "data": {
            "text/plain": [
              "<Figure size 1200x900 with 6 Axes>"
            ],
            "image/png": "[encoded data removed]"
          },
          "metadata": {}
        }
      ]
    },
    {
      "cell_type": "code",
      "source": [],
      "metadata": {
        "id": "nq4QUfAAtdBs"
      },
      "execution_count": null,
      "outputs": []
    }
  ]
}