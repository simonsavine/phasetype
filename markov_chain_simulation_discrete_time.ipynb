{
  "nbformat": 4,
  "nbformat_minor": 0,
  "metadata": {
    "colab": {
      "provenance": [],
      "include_colab_link": true
    },
    "kernelspec": {
      "name": "python3",
      "display_name": "Python 3"
    },
    "language_info": {
      "name": "python"
    }
  },
  "cells": [
    {
      "cell_type": "markdown",
      "metadata": {
        "id": "view-in-github",
        "colab_type": "text"
      },
      "source": [
        "<a href=\"https://colab.research.google.com/github/simonsavine/phasetype/blob/main/markov_chain_simulation_discrete_time.ipynb\" target=\"_parent\"><img src=\"https://colab.research.google.com/assets/colab-badge.svg\" alt=\"Open In Colab\"/></a>"
      ]
    },
    {
      "cell_type": "code",
      "execution_count": 70,
      "metadata": {
        "id": "mlrVS2po4Tqd"
      },
      "outputs": [],
      "source": [
        "import numpy as np\n",
        "import matplotlib.pyplot as plt\n",
        "import tqdm"
      ]
    },
    {
      "cell_type": "code",
      "source": [
        "# Helper functions"
      ],
      "metadata": {
        "id": "4eLkcaHvLv0Q"
      },
      "execution_count": 2,
      "outputs": []
    },
    {
      "cell_type": "code",
      "source": [
        "def is_square(R):\n",
        "  shape = np.shape(R)\n",
        "\n",
        "  if len(shape) != 2:\n",
        "    return False\n",
        "\n",
        "  return shape[0] == shape[1]\n",
        "\n",
        "\n",
        "def is_proba_vector(P):\n",
        "  if np.any(P < 0):\n",
        "    return False\n",
        "\n",
        "  return np.isclose(np.sum(P),1)"
      ],
      "metadata": {
        "id": "Zuzx9dtR8lDS"
      },
      "execution_count": 3,
      "outputs": []
    },
    {
      "cell_type": "code",
      "source": [
        "def is_transition_matrix(R):\n",
        "  shape = np.shape(R)\n",
        "\n",
        "  if not is_square(R):\n",
        "    return False\n",
        "\n",
        "  if shape[0] != shape[1]:\n",
        "    return False\n",
        "\n",
        "  n=shape[0]\n",
        "  for i in range(n):\n",
        "    if not is_proba_vector(R[:, i]):\n",
        "      return False\n",
        "\n",
        "  return True"
      ],
      "metadata": {
        "id": "1e82cn0K_sWW"
      },
      "execution_count": 4,
      "outputs": []
    },
    {
      "cell_type": "code",
      "source": [
        "def is_diagonalizable(R):\n",
        "  if not is_square(R):\n",
        "    return False\n",
        "\n",
        "  ls, V = np.linalg.eig(R)\n",
        "\n",
        "  return np.abs(np.linalg.det(V)) > 1e-6"
      ],
      "metadata": {
        "id": "itzkciLNGoeS"
      },
      "execution_count": 5,
      "outputs": []
    },
    {
      "cell_type": "code",
      "source": [
        "def make_random_transition_matrix(n, diagonalizable=True):\n",
        "  R = np.random.random((n, n))\n",
        "\n",
        "  for i in range(n):\n",
        "    R[:, i] /= np.sum(R[:, i])\n",
        "\n",
        "  if diagonalizable:\n",
        "    return R\n",
        "\n",
        "  if not is_diagonalizable(R):\n",
        "    return make_random_transition_matrix(n, True)\n"
      ],
      "metadata": {
        "id": "rmn06WxoMCPf"
      },
      "execution_count": 6,
      "outputs": []
    },
    {
      "cell_type": "code",
      "source": [
        "# End of helper functions"
      ],
      "metadata": {
        "id": "pBLmCt2aQWJV"
      },
      "execution_count": 7,
      "outputs": []
    },
    {
      "cell_type": "code",
      "source": [
        "class MarkovChain:\n",
        "\n",
        "  def __init__(self, R):\n",
        "\n",
        "    assert is_transition_matrix(R), 'not a transition matrix'\n",
        "    assert is_diagonalizable(R), 'not a diagonalizable matrix'\n",
        "\n",
        "    self.n = np.shape(R)[0]\n",
        "    self.R = R\n",
        "    self.ls, self.V = np.linalg.eig(R)\n",
        "\n",
        "    self.invV = np.linalg.inv(self.V)\n",
        "\n",
        "  def calc_Rm(self, m=1):\n",
        "    r_power_m = self.V @ np.diag(self.ls ** m) @ self.invV if m > 1 else self.R\n",
        "    # dump (numerical) imaginary part, eigenvalues of stochastic matrices are always real\n",
        "    return np.real(r_power_m)\n",
        "\n",
        "  # Calculate Pi+m knowing Pi\n",
        "  def calc_probas(self, Pi, m=1):\n",
        "    return self.calc_Rm(m) @ Pi\n",
        "\n",
        "  # Calculate Pr(Xi+m | Xi = k)\n",
        "  def calc_probas_definitestate(self, k, m=1):\n",
        "    return self.calc_Rm(m) [:, k]\n",
        "\n",
        "  def sample_path(self, m, X0):\n",
        "    x = X0\n",
        "    xs=[X0]\n",
        "\n",
        "    for _ in range(1, m):\n",
        "      # next step probas are in the column of R corresponding to current state\n",
        "      ps = R[:, x]\n",
        "      x = np.random.choice(self.n, p=ps)\n",
        "      xs.append(x)\n",
        "\n",
        "    return np.array(xs)\n",
        "\n",
        "  def sample_paths(self, m, X0, M):\n",
        "    paths = []\n",
        "    for _ in tqdm.tqdm(range(M),f\"simulating {M} paths\" ):\n",
        "      paths.append(self.sample_path(m, X0))\n",
        "\n",
        "    return np.array(paths)\n",
        "\n"
      ],
      "metadata": {
        "id": "EnUUpe_KS91c"
      },
      "execution_count": 85,
      "outputs": []
    },
    {
      "cell_type": "code",
      "source": [
        "# test our Markov chain"
      ],
      "metadata": {
        "id": "bmAWmy1DufuC"
      },
      "execution_count": 72,
      "outputs": []
    },
    {
      "cell_type": "code",
      "source": [
        "n = 5\n",
        "R = make_random_transition_matrix(n)\n",
        "R"
      ],
      "metadata": {
        "id": "RYFkfnLeXOmZ",
        "colab": {
          "base_uri": "https://localhost:8080/"
        },
        "outputId": "86d8536a-fff7-465e-b5e5-de48e4b002fc"
      },
      "execution_count": 127,
      "outputs": [
        {
          "output_type": "execute_result",
          "data": {
            "text/plain": [
              "array([[0.17091522, 0.17994294, 0.0266261 , 0.01162154, 0.3398945 ],\n",
              "       [0.37132545, 0.07529964, 0.14262276, 0.09542169, 0.32932176],\n",
              "       [0.24000019, 0.27645191, 0.3225689 , 0.43776234, 0.00862523],\n",
              "       [0.18309747, 0.28711213, 0.34586497, 0.18319037, 0.19499848],\n",
              "       [0.03466167, 0.18119338, 0.16231727, 0.27200406, 0.12716004]])"
            ]
          },
          "metadata": {},
          "execution_count": 127
        }
      ]
    },
    {
      "cell_type": "code",
      "source": [
        "sums = np.sum(R, axis=0)\n",
        "assert np.allclose(sums, 1)"
      ],
      "metadata": {
        "id": "8fMySFgUusm7"
      },
      "execution_count": 150,
      "outputs": []
    },
    {
      "cell_type": "code",
      "source": [
        "chain = MarkovChain(R)"
      ],
      "metadata": {
        "id": "4NPwrTK8uq4Q"
      },
      "execution_count": 151,
      "outputs": []
    },
    {
      "cell_type": "code",
      "source": [
        "# 1,000 paths over 50 steps\n",
        "m = 50\n",
        "M = 1000\n",
        "paths = chain.sample_paths(m = m, X0 = 0, M = M)"
      ],
      "metadata": {
        "id": "LaTCzM_kY4zb",
        "colab": {
          "base_uri": "https://localhost:8080/"
        },
        "outputId": "d59ee3b3-bfb5-4852-f260-35bca885e55c"
      },
      "execution_count": 152,
      "outputs": [
        {
          "output_type": "stream",
          "name": "stderr",
          "text": [
            "simulating 1000 paths: 100%|██████████| 1000/1000 [00:01<00:00, 587.22it/s]\n"
          ]
        }
      ]
    },
    {
      "cell_type": "code",
      "source": [
        "first_path = paths[0, :]\n",
        "assert len(first_path) == m\n",
        "first_path"
      ],
      "metadata": {
        "colab": {
          "base_uri": "https://localhost:8080/"
        },
        "id": "6AdI8upkZJ4_",
        "outputId": "03b33c3f-dc6a-4c8f-9676-48a70d9009a8"
      },
      "execution_count": 153,
      "outputs": [
        {
          "output_type": "execute_result",
          "data": {
            "text/plain": [
              "array([0, 2, 2, 3, 4, 1, 0, 3, 1, 2, 2, 1, 2, 4, 1, 4, 1, 0, 0, 0, 3, 4,\n",
              "       3, 2, 2, 0, 3, 2, 3, 3, 1, 4, 0, 1, 3, 1, 3, 2, 1, 2, 3, 2, 1, 3,\n",
              "       3, 3, 2, 2, 4, 0])"
            ]
          },
          "metadata": {},
          "execution_count": 153
        }
      ]
    },
    {
      "cell_type": "code",
      "source": [
        "final_states = paths[:, -1]\n",
        "assert len(final_states) == M\n",
        "final_states.shape, final_states[:10]"
      ],
      "metadata": {
        "colab": {
          "base_uri": "https://localhost:8080/"
        },
        "id": "VjUXrKjysRVe",
        "outputId": "a8fd0d1f-e9d5-4c68-b227-6e9e87b2f855"
      },
      "execution_count": 154,
      "outputs": [
        {
          "output_type": "execute_result",
          "data": {
            "text/plain": [
              "((1000,), array([0, 4, 3, 1, 2, 3, 3, 2, 3, 3]))"
            ]
          },
          "metadata": {},
          "execution_count": 154
        }
      ]
    },
    {
      "cell_type": "code",
      "source": [
        "states, counts = np.unique(final_states, return_counts=True)\n",
        "freqs = counts / np.sum(counts)"
      ],
      "metadata": {
        "id": "y1XMvLYztKfI"
      },
      "execution_count": 155,
      "outputs": []
    },
    {
      "cell_type": "code",
      "source": [
        "freqs"
      ],
      "metadata": {
        "colab": {
          "base_uri": "https://localhost:8080/"
        },
        "id": "2UZi4zzktUoZ",
        "outputId": "6749d1fb-d904-4e46-ffa6-7c4ffdd96cc4"
      },
      "execution_count": 156,
      "outputs": [
        {
          "output_type": "execute_result",
          "data": {
            "text/plain": [
              "array([0.111, 0.203, 0.258, 0.246, 0.182])"
            ]
          },
          "metadata": {},
          "execution_count": 156
        }
      ]
    },
    {
      "cell_type": "code",
      "source": [
        "probas = chain.calc_probas_definitestate(0, m - 1)"
      ],
      "metadata": {
        "id": "ZkLuf10NtkNF"
      },
      "execution_count": 157,
      "outputs": []
    },
    {
      "cell_type": "code",
      "source": [
        "plt.bar(states + 0.8, freqs, 0.4, label = 'empirical frequencies')\n",
        "plt.bar(states + 1.2, probas, 0.4, label = 'theoretical probabilities')\n",
        "plt.legend()\n",
        "plt.xlabel(\"states\")\n",
        "plt.title(f\"{M} sample paths, time step i=50\")\n"
      ],
      "metadata": {
        "colab": {
          "base_uri": "https://localhost:8080/",
          "height": 490
        },
        "id": "QCrg8mbgzKRF",
        "outputId": "05ee4d07-c2fb-457b-ab1b-f1e96721cd71"
      },
      "execution_count": 158,
      "outputs": [
        {
          "output_type": "execute_result",
          "data": {
            "text/plain": [
              "Text(0.5, 1.0, '1000 sample paths, time step i=50')"
            ]
          },
          "metadata": {},
          "execution_count": 158
        },
        {
          "output_type": "display_data",
          "data": {
            "text/plain": [
              "<Figure size 640x480 with 1 Axes>"
            ],
            "image/png": "[encoded data removed]"
          },
          "metadata": {}
        }
      ]
    },
    {
      "cell_type": "code",
      "source": [
        "# repeat with 10,000 and 100,000 sample paths\n",
        "# allow around 2-3min\n",
        "freqs = {}\n",
        "for M in [1000, 10000, 100000]:\n",
        "  paths = chain.sample_paths(m = m, X0 = 0, M = M)\n",
        "  final_states = paths[:, -1]\n",
        "  states, counts = np.unique(final_states, return_counts=True)\n",
        "  freqs[M] = counts / np.sum(counts)"
      ],
      "metadata": {
        "id": "sWpghS8T_ZZ1",
        "colab": {
          "base_uri": "https://localhost:8080/"
        },
        "outputId": "e62c7146-e54e-4493-c1a7-ed20a82d74cd"
      },
      "execution_count": 159,
      "outputs": [
        {
          "output_type": "stream",
          "name": "stderr",
          "text": [
            "simulating 1000 paths: 100%|██████████| 1000/1000 [00:01<00:00, 774.71it/s]\n",
            "simulating 10000 paths: 100%|██████████| 10000/10000 [00:15<00:00, 636.32it/s]\n",
            "simulating 100000 paths: 100%|██████████| 100000/100000 [02:33<00:00, 652.78it/s]\n"
          ]
        }
      ]
    },
    {
      "cell_type": "code",
      "source": [
        "fig, axs = plt.subplots(1, 3, figsize=(12,6))\n",
        "for ax, (M, freq) in zip(axs, freqs.items()):\n",
        "  ax.bar(states + 0.8, freq, 0.4, color='r', label = 'empirical frequencies')\n",
        "  ax.bar(states + 1.2, probas, 0.4, color='b', label = 'theoretical probabilities')\n",
        "  ax.set_xlabel(\"states\")\n",
        "  ax.set_title(f\"{M} sample paths\")\n",
        "\n",
        "handles, labels = axs[0].get_legend_handles_labels()\n",
        "fig.legend(handles, labels, loc=\"lower center\")\n",
        "fig.suptitle(\"empirical frequencies and theoretical probabilities at time step i=50\")\n",
        "plt.tight_layout(rect=[0, 0.1, 1, 0.95])\n"
      ],
      "metadata": {
        "colab": {
          "base_uri": "https://localhost:8080/",
          "height": 601
        },
        "id": "aPJiH4it66CK",
        "outputId": "69038f20-c12b-4436-a342-ef7d35491f78"
      },
      "execution_count": 181,
      "outputs": [
        {
          "output_type": "display_data",
          "data": {
            "text/plain": [
              "<Figure size 1200x600 with 3 Axes>"
            ],
            "image/png": "[encoded data removed]"
          },
          "metadata": {}
        }
      ]
    },
    {
      "cell_type": "code",
      "source": [],
      "metadata": {
        "id": "0v_Ni4xT_2WD"
      },
      "execution_count": null,
      "outputs": []
    }
  ]
}