{
  "nbformat": 4,
  "nbformat_minor": 0,
  "metadata": {
    "colab": {
      "provenance": [],
      "include_colab_link": true
    },
    "kernelspec": {
      "name": "python3",
      "display_name": "Python 3"
    },
    "language_info": {
      "name": "python"
    }
  },
  "cells": [
    {
      "cell_type": "markdown",
      "metadata": {
        "id": "view-in-github",
        "colab_type": "text"
      },
      "source": [
        "<a href=\"https://colab.research.google.com/github/simonsavine/phasetype/blob/main/markov_chain_simulation_discrete_time.ipynb\" target=\"_parent\"><img src=\"https://colab.research.google.com/assets/colab-badge.svg\" alt=\"Open In Colab\"/></a>"
      ]
    },
    {
      "cell_type": "code",
      "execution_count": null,
      "metadata": {
        "id": "mlrVS2po4Tqd"
      },
      "outputs": [],
      "source": [
        "import numpy as np\n",
        "import matplotlib.pyplot as plt\n",
        "import tqdm"
      ]
    },
    {
      "cell_type": "code",
      "source": [
        "# Helper functions"
      ],
      "metadata": {
        "id": "4eLkcaHvLv0Q"
      },
      "execution_count": null,
      "outputs": []
    },
    {
      "cell_type": "code",
      "source": [
        "def is_square(R):\n",
        "  shape = np.shape(R)\n",
        "\n",
        "  if len(shape) != 2:\n",
        "    return False\n",
        "\n",
        "  return shape[0] == shape[1]\n",
        "\n",
        "\n",
        "def is_proba_vector(P):\n",
        "  if np.any(P < 0):\n",
        "    return False\n",
        "\n",
        "  return np.isclose(np.sum(P),1)"
      ],
      "metadata": {
        "id": "Zuzx9dtR8lDS"
      },
      "execution_count": null,
      "outputs": []
    },
    {
      "cell_type": "code",
      "source": [
        "def is_transition_matrix(R):\n",
        "  shape = np.shape(R)\n",
        "\n",
        "  if not is_square(R):\n",
        "    return False\n",
        "\n",
        "  if shape[0] != shape[1]:\n",
        "    return False\n",
        "\n",
        "  n=shape[0]\n",
        "  for i in range(n):\n",
        "    if not is_proba_vector(R[:, i]):\n",
        "      return False\n",
        "\n",
        "  return True"
      ],
      "metadata": {
        "id": "1e82cn0K_sWW"
      },
      "execution_count": null,
      "outputs": []
    },
    {
      "cell_type": "code",
      "source": [
        "def is_diagonalizable(R):\n",
        "  if not is_square(R):\n",
        "    return False\n",
        "\n",
        "  ls, V = np.linalg.eig(R)\n",
        "\n",
        "  return np.abs(np.linalg.det(V)) > 1e-6"
      ],
      "metadata": {
        "id": "itzkciLNGoeS"
      },
      "execution_count": null,
      "outputs": []
    },
    {
      "cell_type": "code",
      "source": [
        "def make_random_transition_matrix(n, diagonalizable=True):\n",
        "  R = np.random.random((n, n))\n",
        "\n",
        "  for i in range(n):\n",
        "    R[:, i] /= np.sum(R[:, i])\n",
        "\n",
        "  if diagonalizable:\n",
        "    return R\n",
        "\n",
        "  if not is_diagonalizable(R):\n",
        "    return make_random_transition_matrix(n, True)\n"
      ],
      "metadata": {
        "id": "rmn06WxoMCPf"
      },
      "execution_count": null,
      "outputs": []
    },
    {
      "cell_type": "code",
      "source": [
        "# End of helper functions"
      ],
      "metadata": {
        "id": "pBLmCt2aQWJV"
      },
      "execution_count": null,
      "outputs": []
    },
    {
      "cell_type": "code",
      "source": [
        "class MarkovChain:\n",
        "\n",
        "  def __init__(self, R):\n",
        "\n",
        "    assert is_transition_matrix(R), 'not a transition matrix'\n",
        "    assert is_diagonalizable(R), 'not a diagonalizable matrix'\n",
        "\n",
        "    self.n = np.shape(R)[0]\n",
        "    self.R = R\n",
        "    self.ls, self.V = np.linalg.eig(R)\n",
        "\n",
        "    self.invV = np.linalg.inv(self.V)\n",
        "\n",
        "  def calc_Rm(self, m=1):\n",
        "    r_power_m = self.V @ np.diag(self.ls ** m) @ self.invV if m > 1 else self.R\n",
        "    # dump (numerical) imaginary part, eigenvalues of stochastic matrices are always real\n",
        "    return np.real(r_power_m)\n",
        "\n",
        "  # Calculate Pi+m knowing Pi\n",
        "  def calc_probas(self, Pi, m=1):\n",
        "    return self.calc_Rm(m) @ Pi\n",
        "\n",
        "  # Calculate Pr(Xi+m | Xi = k)\n",
        "  def calc_probas_definitestate(self, k, m=1):\n",
        "    return self.calc_Rm(m) [:, k]\n",
        "\n",
        "  def sample_path(self, m, X0):\n",
        "    x = X0\n",
        "    xs=[X0]\n",
        "\n",
        "    for _ in range(1, m):\n",
        "      # next step probas are in the column of R corresponding to current state\n",
        "      ps = R[:, x]\n",
        "      x = np.random.choice(self.n, p=ps)\n",
        "      xs.append(x)\n",
        "\n",
        "    return np.array(xs)\n",
        "\n",
        "  def sample_paths(self, m, X0, M):\n",
        "    paths = []\n",
        "    for _ in tqdm.tqdm(range(M),f\"simulating {M} paths\" ):\n",
        "      paths.append(self.sample_path(m, X0))\n",
        "\n",
        "    return np.array(paths)\n",
        "\n"
      ],
      "metadata": {
        "id": "EnUUpe_KS91c"
      },
      "execution_count": null,
      "outputs": []
    },
    {
      "cell_type": "code",
      "source": [
        "# test our Markov chain"
      ],
      "metadata": {
        "id": "bmAWmy1DufuC"
      },
      "execution_count": null,
      "outputs": []
    },
    {
      "cell_type": "code",
      "source": [
        "n = 5\n",
        "R = make_random_transition_matrix(n)\n",
        "R"
      ],
      "metadata": {
        "id": "RYFkfnLeXOmZ",
        "colab": {
          "base_uri": "https://localhost:8080/"
        },
        "outputId": "480ad845-eac9-4130-ad3a-2635eb3447ee"
      },
      "execution_count": null,
      "outputs": [
        {
          "output_type": "execute_result",
          "data": {
            "text/plain": [
              "array([[3.24765109e-01, 2.40390319e-01, 2.66652638e-01, 7.63243287e-02,\n",
              "        2.80386179e-01],\n",
              "       [1.87960293e-01, 2.71199768e-01, 8.28634448e-02, 3.22285491e-01,\n",
              "        2.57848963e-01],\n",
              "       [2.91547592e-01, 2.26064235e-01, 1.76239858e-01, 1.55059610e-01,\n",
              "        7.02479844e-02],\n",
              "       [9.89837735e-02, 2.62060417e-01, 3.26398583e-01, 3.58685220e-01,\n",
              "        2.36341036e-01],\n",
              "       [9.67432321e-02, 2.85260378e-04, 1.47845477e-01, 8.76453506e-02,\n",
              "        1.55175837e-01]])"
            ]
          },
          "metadata": {},
          "execution_count": 10
        }
      ]
    },
    {
      "cell_type": "code",
      "source": [
        "sums = np.sum(R, axis=0)\n",
        "assert np.allclose(sums, 1)"
      ],
      "metadata": {
        "id": "8fMySFgUusm7"
      },
      "execution_count": null,
      "outputs": []
    },
    {
      "cell_type": "code",
      "source": [
        "chain = MarkovChain(R)"
      ],
      "metadata": {
        "id": "4NPwrTK8uq4Q"
      },
      "execution_count": null,
      "outputs": []
    },
    {
      "cell_type": "code",
      "source": [
        "# 1,000 paths over 50 steps\n",
        "m = 50\n",
        "M = 1000\n",
        "paths = chain.sample_paths(m = m, X0 = 0, M = M)"
      ],
      "metadata": {
        "id": "LaTCzM_kY4zb",
        "colab": {
          "base_uri": "https://localhost:8080/"
        },
        "outputId": "63102fc5-a999-4a47-8a2a-db73f95a4f68"
      },
      "execution_count": null,
      "outputs": [
        {
          "output_type": "stream",
          "name": "stderr",
          "text": [
            "simulating 1000 paths: 100%|██████████| 1000/1000 [00:04<00:00, 248.72it/s]\n"
          ]
        }
      ]
    },
    {
      "cell_type": "code",
      "source": [
        "first_path = paths[0, :]\n",
        "assert len(first_path) == m\n",
        "first_path"
      ],
      "metadata": {
        "colab": {
          "base_uri": "https://localhost:8080/"
        },
        "id": "6AdI8upkZJ4_",
        "outputId": "02e9a84c-ac8b-43b2-d073-13a8b6f25955"
      },
      "execution_count": null,
      "outputs": [
        {
          "output_type": "execute_result",
          "data": {
            "text/plain": [
              "array([0, 0, 2, 2, 3, 2, 2, 3, 3, 3, 0, 2, 0, 2, 1, 0, 4, 1, 2, 4, 3, 4,\n",
              "       4, 3, 1, 2, 3, 4, 1, 0, 0, 4, 3, 3, 3, 0, 2, 0, 3, 3, 1, 1, 2, 3,\n",
              "       3, 2, 3, 3, 2, 1])"
            ]
          },
          "metadata": {},
          "execution_count": 14
        }
      ]
    },
    {
      "cell_type": "code",
      "source": [
        "final_states = paths[:, -1]\n",
        "assert len(final_states) == M\n",
        "final_states.shape, final_states[:10]"
      ],
      "metadata": {
        "colab": {
          "base_uri": "https://localhost:8080/"
        },
        "id": "VjUXrKjysRVe",
        "outputId": "20eba143-00c1-48b3-ec29-a3d68286d238"
      },
      "execution_count": null,
      "outputs": [
        {
          "output_type": "execute_result",
          "data": {
            "text/plain": [
              "((1000,), array([1, 1, 1, 0, 3, 0, 3, 3, 3, 1]))"
            ]
          },
          "metadata": {},
          "execution_count": 15
        }
      ]
    },
    {
      "cell_type": "code",
      "source": [
        "states, counts = np.unique(final_states, return_counts=True)\n",
        "freqs = counts / np.sum(counts)"
      ],
      "metadata": {
        "id": "y1XMvLYztKfI"
      },
      "execution_count": null,
      "outputs": []
    },
    {
      "cell_type": "code",
      "source": [
        "freqs"
      ],
      "metadata": {
        "colab": {
          "base_uri": "https://localhost:8080/"
        },
        "id": "2UZi4zzktUoZ",
        "outputId": "840cbb37-1a6a-485d-a3b9-d461e8e9f247"
      },
      "execution_count": null,
      "outputs": [
        {
          "output_type": "execute_result",
          "data": {
            "text/plain": [
              "array([0.239, 0.235, 0.189, 0.251, 0.086])"
            ]
          },
          "metadata": {},
          "execution_count": 17
        }
      ]
    },
    {
      "cell_type": "code",
      "source": [
        "probas = chain.calc_probas_definitestate(0, m - 1)"
      ],
      "metadata": {
        "id": "ZkLuf10NtkNF"
      },
      "execution_count": null,
      "outputs": []
    },
    {
      "cell_type": "code",
      "source": [
        "plt.bar(states + 0.8, freqs, 0.4, color='r', label = 'empirical frequencies')\n",
        "plt.bar(states + 1.2, probas, 0.4, color='b', label = 'theoretical probabilities')\n",
        "plt.legend()\n",
        "plt.xlabel(\"states\")\n",
        "plt.title(f\"{M} sample paths, probabilities at time step i=50\")\n"
      ],
      "metadata": {
        "colab": {
          "base_uri": "https://localhost:8080/",
          "height": 490
        },
        "id": "QCrg8mbgzKRF",
        "outputId": "81ac3e4c-d5ab-48e5-a27c-559d598f60fc"
      },
      "execution_count": null,
      "outputs": [
        {
          "output_type": "execute_result",
          "data": {
            "text/plain": [
              "Text(0.5, 1.0, '1000 sample paths, probabilities at time step i=50')"
            ]
          },
          "metadata": {},
          "execution_count": 20
        },
        {
          "output_type": "display_data",
          "data": {
            "text/plain": [
              "<Figure size 640x480 with 1 Axes>"
            ],
            "image/png": "[encoded data removed]"
          },
          "metadata": {}
        }
      ]
    },
    {
      "cell_type": "code",
      "source": [
        "# repeat with 10,000 and 100,000 sample paths\n",
        "# allow around 2-3min\n",
        "freqs = {}\n",
        "for M in [1000, 10000, 100000]:\n",
        "  paths = chain.sample_paths(m = m, X0 = 0, M = M)\n",
        "  final_states = paths[:, -1]\n",
        "  states, counts = np.unique(final_states, return_counts=True)\n",
        "  freqs[M] = counts / np.sum(counts)"
      ],
      "metadata": {
        "id": "sWpghS8T_ZZ1",
        "colab": {
          "base_uri": "https://localhost:8080/"
        },
        "outputId": "f9ac2c34-9830-4f46-d6a6-f2249b1bbff5"
      },
      "execution_count": null,
      "outputs": [
        {
          "output_type": "stream",
          "name": "stderr",
          "text": [
            "simulating 1000 paths: 100%|██████████| 1000/1000 [00:01<00:00, 783.40it/s]\n",
            "simulating 10000 paths: 100%|██████████| 10000/10000 [00:13<00:00, 747.92it/s]\n",
            "simulating 100000 paths: 100%|██████████| 100000/100000 [02:15<00:00, 739.66it/s]\n"
          ]
        }
      ]
    },
    {
      "cell_type": "code",
      "source": [
        "fig, axs = plt.subplots(1, 3, figsize=(12,6))\n",
        "for ax, (M, freq) in zip(axs, freqs.items()):\n",
        "  ax.bar(states + 0.8, freq, 0.4, color='r', label = 'empirical frequencies')\n",
        "  ax.bar(states + 1.2, probas, 0.4, color='b', label = 'theoretical probabilities')\n",
        "  ax.set_xlabel(\"states\")\n",
        "  ax.set_title(f\"{M} sample paths\")\n",
        "\n",
        "handles, labels = axs[0].get_legend_handles_labels()\n",
        "fig.legend(handles, labels, loc=\"lower center\")\n",
        "fig.suptitle(\"empirical frequencies and theoretical probabilities at time step i=50\")\n",
        "plt.tight_layout(rect=[0, 0.1, 1, 0.95])\n"
      ],
      "metadata": {
        "colab": {
          "base_uri": "https://localhost:8080/",
          "height": 601
        },
        "id": "aPJiH4it66CK",
        "outputId": "b8da1f54-6e6c-4592-c4b5-7d18b74fdb62"
      },
      "execution_count": null,
      "outputs": [
        {
          "output_type": "display_data",
          "data": {
            "text/plain": [
              "<Figure size 1200x600 with 3 Axes>"
            ],
            "image/png": "[encoded data removed]"
          },
          "metadata": {}
        }
      ]
    },
    {
      "cell_type": "code",
      "source": [],
      "metadata": {
        "id": "0v_Ni4xT_2WD"
      },
      "execution_count": null,
      "outputs": []
    }
  ]
}