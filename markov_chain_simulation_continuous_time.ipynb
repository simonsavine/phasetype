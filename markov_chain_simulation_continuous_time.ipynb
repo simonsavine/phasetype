{
  "nbformat": 4,
  "nbformat_minor": 0,
  "metadata": {
    "colab": {
      "provenance": [],
      "authorship_tag": "ABX9TyOH/dBg8VnWNj4ZNA9kZFsF",
      "include_colab_link": true
    },
    "kernelspec": {
      "name": "python3",
      "display_name": "Python 3"
    },
    "language_info": {
      "name": "python"
    }
  },
  "cells": [
    {
      "cell_type": "markdown",
      "metadata": {
        "id": "view-in-github",
        "colab_type": "text"
      },
      "source": [
        "<a href=\"https://colab.research.google.com/github/simonsavine/phasetype/blob/main/ctmarkov_chain_simulation_continuous_timemc.ipynb\" target=\"_parent\"><img src=\"https://colab.research.google.com/assets/colab-badge.svg\" alt=\"Open In Colab\"/></a>"
      ]
    },
    {
      "cell_type": "code",
      "execution_count": 1,
      "metadata": {
        "id": "KxlXS5nqulr2"
      },
      "outputs": [],
      "source": [
        "import numpy as np\n",
        "import matplotlib.pyplot as plt"
      ]
    },
    {
      "cell_type": "code",
      "source": [
        "# Helper functions"
      ],
      "metadata": {
        "id": "LFxqlf-yvUfw"
      },
      "execution_count": 2,
      "outputs": []
    },
    {
      "cell_type": "code",
      "source": [
        "def is_square(Q):\n",
        "  shape = np.shape(Q)\n",
        "\n",
        "  if len(shape) != 2:\n",
        "    return False\n",
        "\n",
        "  return shape[0] == shape[1]"
      ],
      "metadata": {
        "id": "oNlTdqpFvV0W"
      },
      "execution_count": 3,
      "outputs": []
    },
    {
      "cell_type": "code",
      "source": [
        "def is_proba_vector(P):\n",
        "  if np.any(P < 0):\n",
        "    return False\n",
        "\n",
        "  return np.isclose(np.sum(P),1)"
      ],
      "metadata": {
        "id": "2vFUtCrX4NRV"
      },
      "execution_count": 5,
      "outputs": []
    },
    {
      "cell_type": "code",
      "source": [
        "# we only accept n by n intensity matrices with exactly 1 absorbing state n\n",
        "def is_intensity_matrix(Q):\n",
        "  if not is_square(Q):\n",
        "    return False\n",
        "\n",
        "  # check that off-diagonals are non-negative\n",
        "  n = np.shape(Q)[0]\n",
        "  for j in range(n):\n",
        "    for k in range(j):\n",
        "      if Q[j, k] < 0 or Q[k, j] < 0:\n",
        "        return False\n",
        "\n",
        "  # check diagonals\n",
        "  diag = np.diag(Q)\n",
        "  # last diagonal must be 0 (absorbing)\n",
        "  if diag[-1] != 0:\n",
        "    return False\n",
        "  # all other diagonals must be non-zero (non-absorbing)\n",
        "  if np.any(diag[:-1] >= -1e-8):\n",
        "    return False\n",
        "\n",
        "  # check that all columns sum to 0\n",
        "  if np.allclose(Q.sum(axis=1), 0):\n",
        "    return False\n",
        "\n",
        "  return True"
      ],
      "metadata": {
        "id": "NvInzy7qvYEa"
      },
      "execution_count": 6,
      "outputs": []
    },
    {
      "cell_type": "code",
      "source": [
        "def is_diagonalizable(Q):\n",
        "  if not is_square(Q):\n",
        "    return False\n",
        "\n",
        "  ls, V = np.linalg.eig(Q)\n",
        "\n",
        "  return np.abs(np.linalg.det(V)) > 1e-4"
      ],
      "metadata": {
        "id": "5sC97WKNy9lr"
      },
      "execution_count": 7,
      "outputs": []
    },
    {
      "cell_type": "code",
      "source": [
        "def make_random_probability_vector(n):\n",
        "  P = np.random.uniform(size=n)\n",
        "  return P / P.sum()\n",
        "\n",
        "\n",
        "# we draw intensities with exponential distribution\n",
        "# by default, scale = 0.25, lambda = 4\n",
        "def make_random_intensity_matrix(n, scale = 0.1, absorbing=True, diagonalizable=True):\n",
        "  # random intensities between 0 and 1\n",
        "  Q = np.random.exponential(scale = scale, size = (n, n))\n",
        "  # set diagonal intensities such that columns sum to 0\n",
        "  for k in range(n):\n",
        "    Q[k, k] = 0\n",
        "    Q[k, k] = - Q[:, k].sum()\n",
        "  # absorbing column\n",
        "  if absorbing:\n",
        "    Q[:, n-1] = 0\n",
        "\n",
        "  if diagonalizable and not is_diagonalizable(Q):\n",
        "    return make_random_intensity_matrix(n, scale, absorbing, True)\n",
        "\n",
        "  return Q\n",
        "\n",
        "\n"
      ],
      "metadata": {
        "id": "k6FZUAgO0Ctw"
      },
      "execution_count": 60,
      "outputs": []
    },
    {
      "cell_type": "code",
      "source": [
        "# Helper functions"
      ],
      "metadata": {
        "id": "oKHp2kRQ2VxN"
      },
      "execution_count": 61,
      "outputs": []
    },
    {
      "cell_type": "code",
      "source": [
        "class CTMC:\n",
        "\n",
        "  def __init__(self, P0, Q):\n",
        "\n",
        "    assert is_proba_vector(P0), 'not a probability vector'\n",
        "    assert is_intensity_matrix(Q), 'not an intensity matrix'\n",
        "    assert is_diagonalizable(Q), 'not diagonalizable'\n",
        "    assert P0.shape[0] == Q.shape[0], 'inconsistent shapes'\n",
        "\n",
        "    self.n = np.shape(Q)[0]\n",
        "\n",
        "    self.P0 = P0\n",
        "    self.Q = Q\n",
        "    self.lams, self.V = np.linalg.eig(Q)\n",
        "    self.invV = np.linalg.inv(self.V)\n",
        "\n",
        "  # 1. helper to compute exp(Q t), see section 1.1 of document\n",
        "\n",
        "  # calculate exp(Qt)\n",
        "  def calc_matrix_exp(self, t):\n",
        "    # dump (numerical) imaginary part, eigenvalues of intensity matrices are always real\n",
        "    return np.real(self.V @ np.diag(np.exp(self.lams * t)) @ self.invV)\n",
        "\n",
        "  # 2. compute probabilities of CTMC states, and absorption time\n",
        "  # see sections 2 and 3\n",
        "\n",
        "  # calculate P(T2) as a function of P(T1)\n",
        "  def calc_probas(self, T2, T1=0., P1 = None):\n",
        "    if P1 is None:\n",
        "      P1 = self.P0\n",
        "    return self.calc_matrix_exp(T2 - T1) @ P1\n",
        "\n",
        "  # calculate Pr(X2 | X1 = k)\n",
        "  def calc_probas_definitestate(self, delta_T, k):\n",
        "    return self.self.calc_matrix_exp(delta_T) [:, k]\n",
        "\n",
        "  # calculate distribution of absorption time (i.e. Phase-Type)\n",
        "  def calc_phase_type_cdf(self, t):\n",
        "    return self.calc_probas(t)[-1]\n",
        "  def calc_phase_type_pdf(self, t):\n",
        "    return (self.calc_matrix_exp(t) @ self.Q @ self.P0)[-1]\n",
        "\n",
        "  # simulate CTMC and sample absorption time, see section 4\n",
        "\n",
        "  # draw holding time\n",
        "  def draw_holding_time(self, k):\n",
        "    return np.random.exponential(scale = - 1 / self.Q[k, k])\n",
        "\n",
        "  # draw next state\n",
        "  def draw_next_state(self, k):\n",
        "    probas = - self.Q[:, k] / self.Q[k, k]\n",
        "    probas[k] = 0\n",
        "    return np.random.choice(self.n, p = probas)\n",
        "\n",
        "  def sample_path(self):\n",
        "    # draw initial state\n",
        "    time = 0\n",
        "    state = np.random.choice(self.n, p=self.P0)\n",
        "    path = [(time, state)]\n",
        "\n",
        "    # iterate until hitting absorbing state\n",
        "    while state != self.n-1:\n",
        "      tau = self.draw_holding_time(state)\n",
        "      time += tau\n",
        "      state = self.draw_next_state(state)\n",
        "      path.append((time, state))\n",
        "\n",
        "    return np.array(path).T\n",
        "\n",
        "  def sample_paths(self, N=1000):\n",
        "    paths = []\n",
        "    for _ in range(N):\n",
        "      paths.append(self.sample_path())\n",
        "    return paths\n",
        "\n",
        ""
      ],
      "metadata": {
        "id": "aMBXOcrW4BKY"
      },
      "execution_count": 328,
      "outputs": []
    },
    {
      "cell_type": "code",
      "source": [
        "# first tests"
      ],
      "metadata": {
        "id": "lqe3nz65Xvwv"
      },
      "execution_count": 299,
      "outputs": []
    },
    {
      "cell_type": "code",
      "source": [
        "# pick P0 and Q\n",
        "\n",
        "n = 4\n",
        "P0 = make_random_probability_vector(n)\n",
        "Q = make_random_intensity_matrix(n)"
      ],
      "metadata": {
        "id": "7mQw7PXgVyD8"
      },
      "execution_count": 330,
      "outputs": []
    },
    {
      "cell_type": "code",
      "source": [
        "P0"
      ],
      "metadata": {
        "colab": {
          "base_uri": "https://localhost:8080/"
        },
        "id": "npCFc2fvV7sr",
        "outputId": "4df10b2e-519f-4601-b89c-609d392290bd"
      },
      "execution_count": 331,
      "outputs": [
        {
          "output_type": "execute_result",
          "data": {
            "text/plain": [
              "array([0.32694953, 0.09166485, 0.50325088, 0.07813474])"
            ]
          },
          "metadata": {},
          "execution_count": 331
        }
      ]
    },
    {
      "cell_type": "code",
      "source": [
        "Q"
      ],
      "metadata": {
        "colab": {
          "base_uri": "https://localhost:8080/"
        },
        "id": "H3jldP7eV9bk",
        "outputId": "0b9ed7df-b0b9-4b59-914d-85b0b491d415"
      },
      "execution_count": 332,
      "outputs": [
        {
          "output_type": "execute_result",
          "data": {
            "text/plain": [
              "array([[-0.41088204,  0.04005097,  0.05912658,  0.        ],\n",
              "       [ 0.18873627, -0.2415559 ,  0.11175895,  0.        ],\n",
              "       [ 0.1571543 ,  0.08360386, -0.18654567,  0.        ],\n",
              "       [ 0.06499146,  0.11790108,  0.01566014,  0.        ]])"
            ]
          },
          "metadata": {},
          "execution_count": 332
        }
      ]
    },
    {
      "cell_type": "code",
      "source": [
        "# sample a path\n",
        "\n",
        "ctmc = CTMC(P0, Q)\n",
        "ctmc.sample_path()"
      ],
      "metadata": {
        "colab": {
          "base_uri": "https://localhost:8080/"
        },
        "id": "f1u-IuTl6gaC",
        "outputId": "d8618980-7a12-4eaf-feae-f5331819bbe7"
      },
      "execution_count": 333,
      "outputs": [
        {
          "output_type": "execute_result",
          "data": {
            "text/plain": [
              "array([[0.        , 5.02499206, 5.9063553 , 6.6335818 , 7.38897254,\n",
              "        7.63664617],\n",
              "       [2.        , 0.        , 1.        , 0.        , 1.        ,\n",
              "        3.        ]])"
            ]
          },
          "metadata": {},
          "execution_count": 333
        }
      ]
    },
    {
      "cell_type": "code",
      "source": [
        "# sample multiple paths\n",
        "\n",
        "ctmc.sample_paths(5)"
      ],
      "metadata": {
        "colab": {
          "base_uri": "https://localhost:8080/"
        },
        "id": "SFKJZs1GUMcz",
        "outputId": "9475c1c2-29d2-4f78-ae2a-872bef6909c6"
      },
      "execution_count": 335,
      "outputs": [
        {
          "output_type": "execute_result",
          "data": {
            "text/plain": [
              "[array([[ 0.        ,  4.6104721 , 10.15962894, 13.1857798 , 14.70114229,\n",
              "         17.06184669, 17.82696644, 18.11939031, 19.28033436, 23.81960044,\n",
              "         28.68214683, 29.78615646, 32.27196982],\n",
              "        [ 2.        ,  0.        ,  1.        ,  0.        ,  2.        ,\n",
              "          1.        ,  0.        ,  2.        ,  1.        ,  2.        ,\n",
              "          0.        ,  1.        ,  3.        ]]),\n",
              " array([[0.        , 0.6071669 , 3.34610284],\n",
              "        [2.        , 0.        , 3.        ]]),\n",
              " array([[ 0.        ,  3.28072339, 10.48592199, 30.82167564, 32.56978224,\n",
              "         34.12894062],\n",
              "        [ 2.        ,  1.        ,  2.        ,  1.        ,  0.        ,\n",
              "          3.        ]]),\n",
              " array([[ 0.        , 10.65884274, 14.3687211 , 16.0529379 , 18.6568735 ,\n",
              "         24.3495278 , 29.60528406, 31.27702942, 33.07367049, 33.43209165,\n",
              "         34.69147339, 49.41322478, 51.89942738, 54.83586057],\n",
              "        [ 2.        ,  1.        ,  0.        ,  2.        ,  1.        ,\n",
              "          2.        ,  1.        ,  2.        ,  1.        ,  2.        ,\n",
              "          1.        ,  0.        ,  1.        ,  3.        ]]),\n",
              " array([[0.        , 1.00633892],\n",
              "        [1.        , 3.        ]])]"
            ]
          },
          "metadata": {},
          "execution_count": 335
        }
      ]
    },
    {
      "cell_type": "code",
      "source": [
        "# helper functions to analyse paths"
      ],
      "metadata": {
        "id": "KechkC81XT0O"
      },
      "execution_count": 305,
      "outputs": []
    },
    {
      "cell_type": "code",
      "source": [
        "def get_state(path, t):\n",
        "  times = path[0, :]\n",
        "  states = path[1, :].astype(int)\n",
        "  return states[np.searchsorted(times, t, side=\"right\") - 1]"
      ],
      "metadata": {
        "id": "XISaKogsX070"
      },
      "execution_count": 306,
      "outputs": []
    },
    {
      "cell_type": "code",
      "source": [
        "def get_absorption_time(path):\n",
        "  times = path[0, :]\n",
        "  return times[-1]"
      ],
      "metadata": {
        "id": "V9Y1Q048YUje"
      },
      "execution_count": 307,
      "outputs": []
    },
    {
      "cell_type": "code",
      "source": [
        "# sizeable sample\n",
        "\n",
        "N = 1000\n",
        "paths = ctmc.sample_paths(N)"
      ],
      "metadata": {
        "id": "pcHeBJ_OZQRS"
      },
      "execution_count": 336,
      "outputs": []
    },
    {
      "cell_type": "code",
      "source": [
        "# check state probabilities"
      ],
      "metadata": {
        "id": "WMxrWWjLZIv_"
      },
      "execution_count": 337,
      "outputs": []
    },
    {
      "cell_type": "code",
      "source": [
        "t = 5\n",
        "theoretical_probas = ctmc.calc_probas(t)\n",
        "theoretical_probas"
      ],
      "metadata": {
        "colab": {
          "base_uri": "https://localhost:8080/"
        },
        "id": "6G7kjSt-ZODz",
        "outputId": "193926c4-262c-4aba-d701-b93bc4d06443"
      },
      "execution_count": 338,
      "outputs": [
        {
          "output_type": "execute_result",
          "data": {
            "text/plain": [
              "array([0.11088174, 0.24993764, 0.3448513 , 0.29432933])"
            ]
          },
          "metadata": {},
          "execution_count": 338
        }
      ]
    },
    {
      "cell_type": "code",
      "source": [
        "states = []\n",
        "for path in paths:\n",
        "  states.append(get_state(path, t))\n",
        "states, empirical_probas = np.unique(states, return_counts=True)\n",
        "empirical_probas = empirical_probas / N\n",
        "empirical_probas"
      ],
      "metadata": {
        "colab": {
          "base_uri": "https://localhost:8080/"
        },
        "id": "jpSYkwtQZuRG",
        "outputId": "f7ecdd92-4b3d-4ca3-dced-c163028c77d8"
      },
      "execution_count": 339,
      "outputs": [
        {
          "output_type": "execute_result",
          "data": {
            "text/plain": [
              "array([0.122, 0.268, 0.338, 0.272])"
            ]
          },
          "metadata": {},
          "execution_count": 339
        }
      ]
    },
    {
      "cell_type": "code",
      "source": [
        "# check distribution of absorption time"
      ],
      "metadata": {
        "id": "kX0dmh3waFpM"
      },
      "execution_count": 340,
      "outputs": []
    },
    {
      "cell_type": "code",
      "source": [
        "abs_times = []\n",
        "for path in paths:\n",
        "  abs_times.append(get_absorption_time(path))\n",
        "abs_times = np.array(abs_times)\n",
        "abs_times.sort()"
      ],
      "metadata": {
        "id": "8tiFGFzKbPss"
      },
      "execution_count": 341,
      "outputs": []
    },
    {
      "cell_type": "code",
      "source": [
        "largest = abs_times[-1]\n",
        "largest"
      ],
      "metadata": {
        "colab": {
          "base_uri": "https://localhost:8080/"
        },
        "id": "tMkWcJ8Gb3vd",
        "outputId": "5f7e0241-a32d-4f28-f39d-aad9d5758449"
      },
      "execution_count": 342,
      "outputs": [
        {
          "output_type": "execute_result",
          "data": {
            "text/plain": [
              "102.34581153810053"
            ]
          },
          "metadata": {},
          "execution_count": 342
        }
      ]
    },
    {
      "cell_type": "code",
      "source": [
        "bins = 100\n",
        "ts = np.linspace(1e-8, largest, bins)\n",
        "h = largest / bins\n",
        "theoretical_densities = [ctmc.calc_phase_type_pdf(t) for t in ts]\n"
      ],
      "metadata": {
        "id": "jdfd66EQb_34"
      },
      "execution_count": 343,
      "outputs": []
    },
    {
      "cell_type": "code",
      "source": [
        "empirical_densities = [0]\n",
        "for i in range(1, len(ts)):\n",
        "  t0 = ts[i-1]\n",
        "  t1 = ts[i]\n",
        "  count = np.count_nonzero((abs_times >=t0) & (abs_times < t1))\n",
        "  empirical_densities.append(count)\n",
        "empirical_densities = np.array(empirical_densities) / h / N\n",
        "empirical_densities[0] = empirical_densities[1]"
      ],
      "metadata": {
        "id": "yXJqJZ83dCFQ"
      },
      "execution_count": 344,
      "outputs": []
    },
    {
      "cell_type": "code",
      "source": [
        "plt.plot(ts, theoretical_densities)\n",
        "plt.plot(ts, empirical_densities)\n"
      ],
      "metadata": {
        "colab": {
          "base_uri": "https://localhost:8080/",
          "height": 448
        },
        "id": "lHg3cm3reS-2",
        "outputId": "6fb3424f-8929-463c-c19e-ea9fe9ee276c"
      },
      "execution_count": 345,
      "outputs": [
        {
          "output_type": "execute_result",
          "data": {
            "text/plain": [
              "[<matplotlib.lines.Line2D at 0x7b3cbe8ffc40>]"
            ]
          },
          "metadata": {},
          "execution_count": 345
        },
        {
          "output_type": "display_data",
          "data": {
            "text/plain": [
              "<Figure size 640x480 with 1 Axes>"
            ],
            "image/png": "[encoded data removed]"
          },
          "metadata": {}
        }
      ]
    },
    {
      "cell_type": "code",
      "source": [],
      "metadata": {
        "id": "jVLg2EdcmMYj"
      },
      "execution_count": null,
      "outputs": []
    }
  ]
}
