{
  "nbformat": 4,
  "nbformat_minor": 0,
  "metadata": {
    "colab": {
      "provenance": [],
      "authorship_tag": "ABX9TyNHTDaLzjhXJQd6BQCL5AMq",
      "include_colab_link": true
    },
    "kernelspec": {
      "name": "python3",
      "display_name": "Python 3"
    },
    "language_info": {
      "name": "python"
    }
  },
  "cells": [
    {
      "cell_type": "markdown",
      "metadata": {
        "id": "view-in-github",
        "colab_type": "text"
      },
      "source": [
        "<a href=\"https://colab.research.google.com/github/simonsavine/phasetype/blob/main/matrix_exponential.ipynb\" target=\"_parent\"><img src=\"https://colab.research.google.com/assets/colab-badge.svg\" alt=\"Open In Colab\"/></a>"
      ]
    },
    {
      "cell_type": "code",
      "execution_count": 7,
      "metadata": {
        "id": "G5nECoxtKzcn"
      },
      "outputs": [],
      "source": [
        "import numpy as np\n",
        "import scipy as sp\n",
        "import time"
      ]
    },
    {
      "cell_type": "code",
      "source": [
        "# diagonalizable matrix\n",
        "DM = np.array([\n",
        "    [.5, .1, .4],\n",
        "    [.2, .7, .3],\n",
        "    [.3, .2, .3]\n",
        "])"
      ],
      "metadata": {
        "id": "BUS63qEiK9Uv"
      },
      "execution_count": 19,
      "outputs": []
    },
    {
      "cell_type": "code",
      "source": [
        "# check is diagonlizable\n",
        "t0 = time.time()\n",
        "evals, evecs = np.linalg.eig(DM)\n",
        "t1 = time.time()\n",
        "diag_time = t1 - t0\n",
        "np.linalg.det(evecs)"
      ],
      "metadata": {
        "colab": {
          "base_uri": "https://localhost:8080/"
        },
        "id": "MFgN4BSqMCHX",
        "outputId": "db323b28-aeb4-46f0-9841-7cdd6687d1f8"
      },
      "execution_count": 20,
      "outputs": [
        {
          "output_type": "execute_result",
          "data": {
            "text/plain": [
              "-0.9615878914705364"
            ]
          },
          "metadata": {},
          "execution_count": 20
        }
      ]
    },
    {
      "cell_type": "code",
      "source": [
        "# invert eigenvectors\n",
        "t0 = time.time()\n",
        "evecs_inv = np.linalg.inv(evecs)\n",
        "t1 = time.time()\n",
        "inv_time = t1 - t0\n",
        "\n",
        "# compute matrix exponential\n",
        "t0 = time.time()\n",
        "eDM = np.real(evecs @ np.diag(np.exp(evals)) @ evecs_inv)\n",
        "t1 = time.time()\n",
        "exp_time = t1 - t0\n",
        "total_time = diag_time + inv_time + exp_time\n",
        "eDM"
      ],
      "metadata": {
        "colab": {
          "base_uri": "https://localhost:8080/"
        },
        "id": "dO4pXAP6LbkJ",
        "outputId": "e30fc3a2-8d1c-4931-b8b9-13a2ea85bba5"
      },
      "execution_count": 21,
      "outputs": [
        {
          "output_type": "execute_result",
          "data": {
            "text/plain": [
              "array([[1.76785882, 0.25568649, 0.64427354],\n",
              "       [0.45249949, 2.09420083, 0.5820285 ],\n",
              "       [0.49792352, 0.36839451, 1.49197979]])"
            ]
          },
          "metadata": {},
          "execution_count": 21
        }
      ]
    },
    {
      "cell_type": "code",
      "source": [
        "# the same, computed with scipy\n",
        "t0 = time.time()\n",
        "eDMsp = sp.linalg.expm(DM)\n",
        "t1 = time.time()\n",
        "sp_time = t1 - t0\n",
        "assert np.allclose(eDM, eDMsp)\n",
        "eDMsp"
      ],
      "metadata": {
        "colab": {
          "base_uri": "https://localhost:8080/"
        },
        "id": "aphlB-SPLn2p",
        "outputId": "0e9cb905-c418-4e91-9c48-a611e583e988"
      },
      "execution_count": 22,
      "outputs": [
        {
          "output_type": "execute_result",
          "data": {
            "text/plain": [
              "array([[1.76785882, 0.25568649, 0.64427354],\n",
              "       [0.45249949, 2.09420083, 0.5820285 ],\n",
              "       [0.49792352, 0.36839451, 1.49197979]])"
            ]
          },
          "metadata": {},
          "execution_count": 22
        }
      ]
    },
    {
      "cell_type": "code",
      "source": [
        "# compare times\n",
        "total_time, sp_time, exp_time"
      ],
      "metadata": {
        "colab": {
          "base_uri": "https://localhost:8080/"
        },
        "id": "7idwsHJW1bKu",
        "outputId": "9af13ac1-b538-4519-97df-197d682d11ea"
      },
      "execution_count": 23,
      "outputs": [
        {
          "output_type": "execute_result",
          "data": {
            "text/plain": [
              "(0.00075531005859375, 0.014783620834350586, 0.00016951560974121094)"
            ]
          },
          "metadata": {},
          "execution_count": 23
        }
      ]
    },
    {
      "cell_type": "code",
      "source": [
        "# scipy is much slower than the diagonalizable computation"
      ],
      "metadata": {
        "id": "UuOpTXmW1zp9"
      },
      "execution_count": 13,
      "outputs": []
    },
    {
      "cell_type": "code",
      "source": [
        "# non-diagonalizable matrix\n",
        "NDM = np.array([\n",
        "    [1., 1., 0.],\n",
        "    [0., 1., 1.],\n",
        "    [0., 0., 0.]\n",
        "])"
      ],
      "metadata": {
        "id": "sFKLakRDL42u"
      },
      "execution_count": 14,
      "outputs": []
    },
    {
      "cell_type": "code",
      "source": [
        "# check non-diagonalizable\n",
        "evals, evecs = np.linalg.eig(NDM)\n",
        "np.linalg.det(evecs)"
      ],
      "metadata": {
        "colab": {
          "base_uri": "https://localhost:8080/"
        },
        "id": "JANOAlRiMMbu",
        "outputId": "883d274b-297c-4d28-c503-d9e7bea03cc0"
      },
      "execution_count": 15,
      "outputs": [
        {
          "output_type": "execute_result",
          "data": {
            "text/plain": [
              "1.2819751242557141e-16"
            ]
          },
          "metadata": {},
          "execution_count": 15
        }
      ]
    },
    {
      "cell_type": "code",
      "source": [
        "# try compute matrix exponential\n",
        "eNDM = np.real(evecs @ np.diag(np.exp(evals)) @ np.linalg.inv(evecs))\n",
        "eNDM"
      ],
      "metadata": {
        "colab": {
          "base_uri": "https://localhost:8080/"
        },
        "id": "jp-7GqDhMNqu",
        "outputId": "503ac08e-798f-4601-e491-1f84310fffbe"
      },
      "execution_count": 16,
      "outputs": [
        {
          "output_type": "execute_result",
          "data": {
            "text/plain": [
              "array([[ 2.71828183,  0.        , -1.        ],\n",
              "       [ 0.        ,  2.71828183,  1.71828183],\n",
              "       [ 0.        ,  0.        ,  1.        ]])"
            ]
          },
          "metadata": {},
          "execution_count": 16
        }
      ]
    },
    {
      "cell_type": "code",
      "source": [
        "# the same, computed with scipy\n",
        "eNDMsp = sp.linalg.expm(NDM)\n",
        "eNDMsp"
      ],
      "metadata": {
        "colab": {
          "base_uri": "https://localhost:8080/"
        },
        "id": "pdFRr-EOMXzv",
        "outputId": "537e5a72-c715-4589-9d9e-1ba3a268c684"
      },
      "execution_count": 17,
      "outputs": [
        {
          "output_type": "execute_result",
          "data": {
            "text/plain": [
              "array([[2.71828183, 2.71828183, 1.        ],\n",
              "       [0.        , 2.71828183, 1.71828183],\n",
              "       [0.        , 0.        , 1.        ]])"
            ]
          },
          "metadata": {},
          "execution_count": 17
        }
      ]
    },
    {
      "cell_type": "code",
      "source": [
        "# note that they are different, which one is correct?\n",
        "# apply definition\n",
        "eNDMdef = np.eye(3)\n",
        "NDMpow = np.eye(3)\n",
        "fact = 1\n",
        "for i in range(1, 20):\n",
        "  fact *= i\n",
        "  NDMpow = NDMpow @ NDM\n",
        "  eNDMdef += NDMpow / fact\n",
        "\n",
        "eNDMdef"
      ],
      "metadata": {
        "colab": {
          "base_uri": "https://localhost:8080/"
        },
        "id": "gtTBSifMMc_O",
        "outputId": "21fd0083-0208-43e6-b416-dd83b8acbd75"
      },
      "execution_count": 18,
      "outputs": [
        {
          "output_type": "execute_result",
          "data": {
            "text/plain": [
              "array([[2.71828183, 2.71828183, 1.        ],\n",
              "       [0.        , 2.71828183, 1.71828183],\n",
              "       [0.        , 0.        , 1.        ]])"
            ]
          },
          "metadata": {},
          "execution_count": 18
        }
      ]
    },
    {
      "cell_type": "code",
      "source": [
        "# conclusion: scipy's version is correct, whether the matrix is diagonalizable or not, at the cost of a much slower computation in the diagonalizable case"
      ],
      "metadata": {
        "id": "fntiXEnMMm1f"
      },
      "execution_count": 38,
      "outputs": []
    },
    {
      "cell_type": "code",
      "source": [],
      "metadata": {
        "id": "Jb90GScXNhBO"
      },
      "execution_count": null,
      "outputs": []
    }
  ]
}