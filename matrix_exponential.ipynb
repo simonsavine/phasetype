{
  "nbformat": 4,
  "nbformat_minor": 0,
  "metadata": {
    "colab": {
      "provenance": [],
      "authorship_tag": "ABX9TyN68BNcobiSYbgZVqqrCpuN",
      "include_colab_link": true
    },
    "kernelspec": {
      "name": "python3",
      "display_name": "Python 3"
    },
    "language_info": {
      "name": "python"
    }
  },
  "cells": [
    {
      "cell_type": "markdown",
      "metadata": {
        "id": "view-in-github",
        "colab_type": "text"
      },
      "source": [
        "<a href=\"https://colab.research.google.com/github/simonsavine/phasetype/blob/main/matrix_exponential.ipynb\" target=\"_parent\"><img src=\"https://colab.research.google.com/assets/colab-badge.svg\" alt=\"Open In Colab\"/></a>"
      ]
    },
    {
      "cell_type": "code",
      "execution_count": 17,
      "metadata": {
        "id": "G5nECoxtKzcn"
      },
      "outputs": [],
      "source": [
        "import numpy as np\n",
        "import scipy as sp\n",
        "import time"
      ]
    },
    {
      "cell_type": "code",
      "source": [
        "# diagonalizable matrix\n",
        "DM = np.array([\n",
        "    [.5, .1, .4],\n",
        "    [.2, .7, .3],\n",
        "    [.3, .2, .3]\n",
        "])"
      ],
      "metadata": {
        "id": "BUS63qEiK9Uv"
      },
      "execution_count": 18,
      "outputs": []
    },
    {
      "cell_type": "code",
      "source": [
        "# check is diagonlizable\n",
        "t0 = time.time()\n",
        "evals, evecs = np.linalg.eig(DM)\n",
        "t1 = time.time()\n",
        "diag_time = t1 - t0\n",
        "np.linalg.det(evecs)"
      ],
      "metadata": {
        "colab": {
          "base_uri": "https://localhost:8080/"
        },
        "id": "MFgN4BSqMCHX",
        "outputId": "cd03e955-5972-45e0-8a92-b27a1dfd6382"
      },
      "execution_count": 25,
      "outputs": [
        {
          "output_type": "execute_result",
          "data": {
            "text/plain": [
              "-0.9615878914705364"
            ]
          },
          "metadata": {},
          "execution_count": 25
        }
      ]
    },
    {
      "cell_type": "code",
      "source": [
        "# its matrix exponential\n",
        "t0 = time.time()\n",
        "evecs_inv = np.linalg.inv(evecs)\n",
        "t1 = time.time()\n",
        "inv_time = t1 - t0\n",
        "\n",
        "t0 = time.time()\n",
        "eDM = np.real(evecs @ np.diag(np.exp(evals)) @ evecs_inv)\n",
        "t1 = time.time()\n",
        "exp_time = t1 - t0\n",
        "total_time = diag_time + inv_time + exp_time\n",
        "eDM"
      ],
      "metadata": {
        "colab": {
          "base_uri": "https://localhost:8080/"
        },
        "id": "dO4pXAP6LbkJ",
        "outputId": "9eaae636-d096-402b-a458-89ba2ef74e2b"
      },
      "execution_count": 26,
      "outputs": [
        {
          "output_type": "execute_result",
          "data": {
            "text/plain": [
              "array([[1.76785882, 0.25568649, 0.64427354],\n",
              "       [0.45249949, 2.09420083, 0.5820285 ],\n",
              "       [0.49792352, 0.36839451, 1.49197979]])"
            ]
          },
          "metadata": {},
          "execution_count": 26
        }
      ]
    },
    {
      "cell_type": "code",
      "source": [
        "# the same, computed with scipy\n",
        "t0 = time.time()\n",
        "eDMsp = sp.linalg.expm(DM)\n",
        "t1 = time.time()\n",
        "sp_time = t1 - t0\n",
        "assert np.allclose(eDM, eDMsp)\n",
        "eDMsp"
      ],
      "metadata": {
        "colab": {
          "base_uri": "https://localhost:8080/"
        },
        "id": "aphlB-SPLn2p",
        "outputId": "d90438eb-1d06-4c16-81d2-db78106109b2"
      },
      "execution_count": 27,
      "outputs": [
        {
          "output_type": "execute_result",
          "data": {
            "text/plain": [
              "array([[1.76785882, 0.25568649, 0.64427354],\n",
              "       [0.45249949, 2.09420083, 0.5820285 ],\n",
              "       [0.49792352, 0.36839451, 1.49197979]])"
            ]
          },
          "metadata": {},
          "execution_count": 27
        }
      ]
    },
    {
      "cell_type": "code",
      "source": [
        "# compare times\n",
        "total_time, sp_time, exp_time"
      ],
      "metadata": {
        "colab": {
          "base_uri": "https://localhost:8080/"
        },
        "id": "7idwsHJW1bKu",
        "outputId": "3898be3e-a4c5-4fff-f7c6-074269d27542"
      },
      "execution_count": 29,
      "outputs": [
        {
          "output_type": "execute_result",
          "data": {
            "text/plain": [
              "(0.008049964904785156, 0.0027315616607666016, 0.0005304813385009766)"
            ]
          },
          "metadata": {},
          "execution_count": 29
        }
      ]
    },
    {
      "cell_type": "code",
      "source": [
        "# scipy is around 4x faster than total time, but 4x slower than just the computation of the exponential once the matrix was diagonalized and its eigenvectors inverted"
      ],
      "metadata": {
        "id": "UuOpTXmW1zp9"
      },
      "execution_count": 31,
      "outputs": []
    },
    {
      "cell_type": "code",
      "source": [
        "# non-diagonalizable matrix\n",
        "NDM = np.array([\n",
        "    [1., 1., 0.],\n",
        "    [0., 1., 1.],\n",
        "    [0., 0., 0.]\n",
        "])"
      ],
      "metadata": {
        "id": "sFKLakRDL42u"
      },
      "execution_count": 32,
      "outputs": []
    },
    {
      "cell_type": "code",
      "source": [
        "# check non-diagonalizable\n",
        "evals, evecs = np.linalg.eig(NDM)\n",
        "np.linalg.det(evecs)"
      ],
      "metadata": {
        "colab": {
          "base_uri": "https://localhost:8080/"
        },
        "id": "JANOAlRiMMbu",
        "outputId": "49f31bff-2fd0-4950-82ca-9a85129f1cac"
      },
      "execution_count": 33,
      "outputs": [
        {
          "output_type": "execute_result",
          "data": {
            "text/plain": [
              "1.2819751242557141e-16"
            ]
          },
          "metadata": {},
          "execution_count": 33
        }
      ]
    },
    {
      "cell_type": "code",
      "source": [
        "# try compute matrix exponential\n",
        "eNDM = np.real(evecs @ np.diag(np.exp(evals)) @ np.linalg.inv(evecs))\n",
        "eNDM"
      ],
      "metadata": {
        "colab": {
          "base_uri": "https://localhost:8080/"
        },
        "id": "jp-7GqDhMNqu",
        "outputId": "b70dd0ea-8835-4bc0-8a47-b7389c0614bb"
      },
      "execution_count": 34,
      "outputs": [
        {
          "output_type": "execute_result",
          "data": {
            "text/plain": [
              "array([[ 2.71828183,  0.        , -1.        ],\n",
              "       [ 0.        ,  2.71828183,  1.71828183],\n",
              "       [ 0.        ,  0.        ,  1.        ]])"
            ]
          },
          "metadata": {},
          "execution_count": 34
        }
      ]
    },
    {
      "cell_type": "code",
      "source": [
        "# the same, computed with scipy\n",
        "eNDMsp = sp.linalg.expm(NDM)\n",
        "eNDMsp"
      ],
      "metadata": {
        "colab": {
          "base_uri": "https://localhost:8080/"
        },
        "id": "pdFRr-EOMXzv",
        "outputId": "ae118136-8416-4dfc-d108-504742ea499f"
      },
      "execution_count": 35,
      "outputs": [
        {
          "output_type": "execute_result",
          "data": {
            "text/plain": [
              "array([[2.71828183, 2.71828183, 1.        ],\n",
              "       [0.        , 2.71828183, 1.71828183],\n",
              "       [0.        , 0.        , 1.        ]])"
            ]
          },
          "metadata": {},
          "execution_count": 35
        }
      ]
    },
    {
      "cell_type": "code",
      "source": [
        "# note that they are different, which one is correct?\n",
        "# apply definition\n",
        "eNDMdef = np.eye(3)\n",
        "NDMpow = np.eye(3)\n",
        "fact = 1\n",
        "for i in range(1, 20):\n",
        "  fact *= i\n",
        "  NDMpow = NDMpow @ NDM\n",
        "  eNDMdef += NDMpow / fact\n",
        "\n",
        "eNDMdef"
      ],
      "metadata": {
        "colab": {
          "base_uri": "https://localhost:8080/"
        },
        "id": "gtTBSifMMc_O",
        "outputId": "cd016b00-88b7-439d-c79e-d5180f721e1b"
      },
      "execution_count": 36,
      "outputs": [
        {
          "output_type": "execute_result",
          "data": {
            "text/plain": [
              "array([[2.71828183, 2.71828183, 1.        ],\n",
              "       [0.        , 2.71828183, 1.71828183],\n",
              "       [0.        , 0.        , 1.        ]])"
            ]
          },
          "metadata": {},
          "execution_count": 36
        }
      ]
    },
    {
      "cell_type": "code",
      "source": [
        "# conclusion: scipy's version is efficient and correct, whether the matrix is diagonalizable or not"
      ],
      "metadata": {
        "id": "fntiXEnMMm1f"
      },
      "execution_count": 38,
      "outputs": []
    },
    {
      "cell_type": "code",
      "source": [],
      "metadata": {
        "id": "Jb90GScXNhBO"
      },
      "execution_count": null,
      "outputs": []
    }
  ]
}